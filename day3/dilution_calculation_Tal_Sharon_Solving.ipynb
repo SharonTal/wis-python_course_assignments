{
 "cells": [
  {
   "cell_type": "markdown",
   "metadata": {
    "id": "QO27BfQYX15A"
   },
   "source": [
    "# Dilution Calculation and Visualization"
   ]
  },
  {
   "cell_type": "markdown",
   "metadata": {
    "id": "FmmUaZjVX15B"
   },
   "source": [
    "### Introduction:\n",
    "In this assignment, we will practice using Python to solve a common problem in biology labs: calculating dilutions of solutions. You will learn how to use a for loop to perform repeated calculations and use matplotlib to visualize your results."
   ]
  },
  {
   "cell_type": "markdown",
   "metadata": {
    "id": "WDUM7JOkX15C"
   },
   "source": [
    "### Biology Background:\n",
    "When working in the lab, you often need to prepare solutions with specific concentrations. If you have a stock solution with a known concentration (\n",
    "C1) and you want to dilute it to a lower concentration (C2)\n",
    "you use the following formula:\n",
    "<img src=\"https://toptipbio.com/wp-content/uploads/2017/02/C1V1C2V2.jpg\" alt=\"Dilution Formula\" width=\"300\">\n",
    "\n",
    "\n",
    "Where:\n",
    "- **\\(C1\\)**: Initial (stock) concentration\n",
    "- **\\(V1\\)**: Volume of the stock solution used\n",
    "- **\\(C2\\)**: Final concentration after dilution\n",
    "- **\\(V2\\)**: Final total volume of the solution"
   ]
  },
  {
   "cell_type": "markdown",
   "metadata": {
    "id": "65qk2qxlX15C"
   },
   "source": [
    "\n",
    "### Explanation of Basic Python Operations\n",
    "\n",
    "- **`*` (Multiplication)**:\n",
    "  - Example:\n",
    "    ```python\n",
    "    result = 3 * 4  # This equals 12\n",
    "    ```\n",
    "\n",
    "- **`/` (Division)**:\n",
    "  - Example:\n",
    "    ```python\n",
    "    result = 7 / 2  # This equals 3.5\n",
    "    ```\n",
    "\n",
    "- **`-` (Subtraction)**:\n",
    "  - Example:\n",
    "    ```python\n",
    "    result = 10 - 4  # This equals 6\n",
    "    ```\n",
    "\n",
    "- **`+` (Addition)**:\n",
    "  - Example:\n",
    "    ```python\n",
    "    result = 5 + 7  # This equals 12\n",
    "    ```\n",
    "\n",
    "These basic operations are very helpful for performing calculations in Python.\n"
   ]
  },
  {
   "cell_type": "markdown",
   "metadata": {
    "id": "GeIs6IUXX15C"
   },
   "source": [
    "### 📝 Task: Complete the Code\n",
    "\n",
    "Complete the code by filling in the missing parts marked with `# TODO #`.\n",
    "\n",
    "Good luck, and have fun! 😊\n"
   ]
  },
  {
   "cell_type": "markdown",
   "metadata": {
    "id": "uYGRGCsKX15C"
   },
   "source": [
    "\n",
    "\n",
    "\n",
    "## <font color='cyan'> Part 1: Define the Given Values"
   ]
  },
  {
   "cell_type": "code",
   "execution_count": 6,
   "metadata": {
    "id": "vRozBGvZX15D"
   },
   "outputs": [],
   "source": [
    "# Given values\n",
    "C1_values = [10,11,12,13,14,15,16,17,18,19,20]\n",
    "V1 =30\n",
    "V2 = 60"
   ]
  },
  {
   "cell_type": "markdown",
   "metadata": {
    "id": "HDf8qCPzX15D"
   },
   "source": [
    "\n",
    "##  <font color='cyan'> Part 2: Calculate the Final Concentrations Using a For Loop"
   ]
  },
  {
   "cell_type": "markdown",
   "metadata": {
    "id": "Ni52iCQ9X15D"
   },
   "source": [
    "A **for loop** is a way to repeat a set of instructions multiple times. It allows you to iterate over a list of items and perform an action on each item in the list.\n",
    "**How It Works:**\n",
    "The basic structure of a `for` loop looks like this:\n",
    "\n",
    "```python\n",
    "for i in list_of_i:\n",
    "    # Perform an action with each i\n",
    "    print(i)\n",
    "``````\n",
    "    \n",
    "- `for`: This keyword starts the loop.\n",
    "- `i`: This is a variable that takes on the value of each item in the list, one at a time.\n",
    "- `in`: This keyword tells Python to look inside the list of items.\n",
    "- `list_of_i`: This is the list that contains the items you want to loop through.\n",
    "\n",
    "\n",
    "This way, we don’t have to write the formula multiple times. The loop does the repetitive work for us!\n",
    "[🔗 Watch the YouTube Video on For Loops](https://www.youtube.com/watch?v=zmIdC0_0BgY)\n"
   ]
  },
  {
   "cell_type": "code",
   "execution_count": 9,
   "metadata": {
    "id": "PptjwfT6X15D"
   },
   "outputs": [
    {
     "name": "stdout",
     "output_type": "stream",
     "text": [
      "Initial concentration: 10 mg/mL -> Final concentration: 5.00 mg/mL\n",
      "Initial concentration: 11 mg/mL -> Final concentration: 5.50 mg/mL\n",
      "Initial concentration: 12 mg/mL -> Final concentration: 6.00 mg/mL\n",
      "Initial concentration: 13 mg/mL -> Final concentration: 6.50 mg/mL\n",
      "Initial concentration: 14 mg/mL -> Final concentration: 7.00 mg/mL\n",
      "Initial concentration: 15 mg/mL -> Final concentration: 7.50 mg/mL\n",
      "Initial concentration: 16 mg/mL -> Final concentration: 8.00 mg/mL\n",
      "Initial concentration: 17 mg/mL -> Final concentration: 8.50 mg/mL\n",
      "Initial concentration: 18 mg/mL -> Final concentration: 9.00 mg/mL\n",
      "Initial concentration: 19 mg/mL -> Final concentration: 9.50 mg/mL\n",
      "Initial concentration: 20 mg/mL -> Final concentration: 10.00 mg/mL\n",
      "[5.0, 5.5, 6.0, 6.5, 7.0, 7.5, 8.0, 8.5, 9.0, 9.5, 10.0]\n"
     ]
    }
   ],
   "source": [
    "# Create an empty list to store the calculated C2 values\n",
    "C2_values = []\n",
    "\n",
    "# Part 1: Calculate C2 using a for loop\n",
    "for C1 in C1_values:\n",
    "    C2 = C1*V1/V2\n",
    "    C2_values.append(C2)\n",
    "    print(f\"Initial concentration: {C1} mg/mL -> Final concentration: {C2:.2f} mg/mL\")\n",
    "print(C2_values)"
   ]
  },
  {
   "cell_type": "markdown",
   "metadata": {
    "id": "nXRDG7UeX15E"
   },
   "source": [
    "\n",
    "##  <font color='cyan'> Part 3: Calculate the Slope"
   ]
  },
  {
   "cell_type": "markdown",
   "metadata": {
    "id": "YAqoKcfMX15E"
   },
   "source": [
    "\n",
    "\n",
    "\n",
    "The **slope** tells us how quickly the final concentration (\\(C_2\\)) changes as the initial concentration (\\(C_1\\)) increases. It represents the **rate of change** of \\(C_2\\) with respect to \\(C_1\\).\n",
    "\n",
    "We will use the formula:\n",
    "\n",
    "<img src=\"https://studybay.com/assets/marketing/blog/slope-formula/slope-formula-calculation-7.jpg\" alt=\"Slope Formula\" width=\"400\">\n",
    "\n",
    "Where:\n",
    "- \\(y_2\\) and \\(y_1\\) are consecutive values of the final concentration (\\(C_2\\)).\n",
    "- \\(x_2\\) and \\(x_1\\) are consecutive values of the initial concentration (\\(C_1\\)).\n",
    "\n",
    "\n",
    "Slope calculating using Python:\n",
    " - Use the list of the values C1 and C2\n",
    " - Write a Python code to calculate the slope between each consecutive pair of points.\n",
    " - Print the slope values.\n",
    "\n",
    "\n"
   ]
  },
  {
   "cell_type": "code",
   "execution_count": 10,
   "metadata": {
    "id": "cSeJo6dCkIQo"
   },
   "outputs": [
    {
     "name": "stdout",
     "output_type": "stream",
     "text": [
      "Calculated slopes: [0.5, 0.5, 0.5, 0.5, 0.5, 0.5, 0.5, 0.5, 0.5, 0.5]\n"
     ]
    }
   ],
   "source": [
    "# Given C1_values and C2_Values\n",
    "# Create an empty list to store slope values\n",
    "slopes = []\n",
    "\n",
    "# Calculate the slope for each consecutive pair of points\n",
    "for i in range(1, len(C1_values)):\n",
    "    x1, x2 = C1_values[i - 1], C1_values[i]\n",
    "    y1, y2 = C2_values[i - 1], C2_values[i]\n",
    "    slope =   (y2-y1)/(x2-x1)\n",
    "    slopes.append(slope)\n",
    "\n",
    "# Print the list of calculated slopes\n",
    "print(\"Calculated slopes:\", slopes)\n"
   ]
  },
  {
   "cell_type": "markdown",
   "metadata": {
    "id": "8dZJhUvUjmjl"
   },
   "source": [
    "\n",
    "##  <font color='cyan'> Part 4 : yours turn !"
   ]
  },
  {
   "cell_type": "markdown",
   "metadata": {
    "id": "uRXwBpWzjztR"
   },
   "source": [
    "For this final task, you’ll combine everything you’ve learned about defining variables, using for loops, and working with lists to solve a problem of your own creation.\n",
    "\n",
    "Instructions:\n",
    "\n",
    "*   Choose a scientific or mathematical formula that interests you (e.g., population growth, michealis menten, acceleration, etc.).\n",
    "\n",
    "*   Define a list of input parameters relevant to your chosen formula.\n",
    "Use a for loop to iterate through the parameters and calculate the result for each.\n",
    "\n",
    "\n",
    "*   Save all the results in a new list.\n",
    "*   Print both the input parameters and their corresponding results.\n",
    "\n",
    "\n",
    "\n",
    "\n"
   ]
  },
  {
   "cell_type": "markdown",
   "metadata": {},
   "source": [
    " Michaelis-Menten equation:"
   ]
  },
  {
   "cell_type": "code",
   "execution_count": 12,
   "metadata": {},
   "outputs": [
    {
     "name": "stdout",
     "output_type": "stream",
     "text": [
      "Substrate Concentrations [S] (mM) and Reaction Rates (µmol/min):\n",
      "[S]: 0.1 mM, Rate: 0.48 µmol/min\n",
      "[S]: 0.5 mM, Rate: 2.00 µmol/min\n",
      "[S]: 1.0 mM, Rate: 3.33 µmol/min\n",
      "[S]: 5.0 mM, Rate: 7.14 µmol/min\n",
      "[S]: 10.0 mM, Rate: 8.33 µmol/min\n"
     ]
    }
   ],
   "source": [
    "substrate_concentrations = [0.1, 0.5, 1.0, 5.0, 10.0]  \n",
    "V_max=10\n",
    "K_m = 2  \n",
    "\n",
    "reaction_rates = []\n",
    "\n",
    "for substrate_concentration in substrate_concentrations:\n",
    "    reaction_rate = (V_max * substrate_concentration) / (K_m + substrate_concentration)\n",
    "    reaction_rates.append(reaction_rate)\n",
    "\n",
    "# Print results\n",
    "print(\"Substrate Concentrations [S] (mM) and Reaction Rates (µmol/min):\")\n",
    "for substrate, rate in zip(substrate_concentrations, reaction_rates):\n",
    "    print(f\"[S]: {substrate} mM, Rate: {rate:.2f} µmol/min\")\n"
   ]
  },
  {
   "cell_type": "code",
   "execution_count": null,
   "metadata": {},
   "outputs": [],
   "source": []
  }
 ],
 "metadata": {
  "colab": {
   "provenance": []
  },
  "kernelspec": {
   "display_name": "base",
   "language": "python",
   "name": "python3"
  },
  "language_info": {
   "codemirror_mode": {
    "name": "ipython",
    "version": 3
   },
   "file_extension": ".py",
   "mimetype": "text/x-python",
   "name": "python",
   "nbconvert_exporter": "python",
   "pygments_lexer": "ipython3",
   "version": "3.12.3"
  }
 },
 "nbformat": 4,
 "nbformat_minor": 0
}
