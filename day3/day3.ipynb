{
 "cells": [
  {
   "cell_type": "code",
   "execution_count": null,
   "id": "664fb8db-0108-40cc-8948-15dcc03aaf45",
   "metadata": {},
   "outputs": [],
   "source": [
    "import math\n",
    "\n",
    "def circle_calculate():\n",
    "    radius=int(input(\"enter radius\"))\n",
    "    area=math.pi * radius**2\n",
    "    circumference = 2 * math.pi * radius\n",
    "    print(f\"Area of the circle: {area}\")\n",
    "    print(f\"Circumference of the circle: {circumference}\")\n",
    "\n",
    "\n",
    "\n",
    "circle_calculate()"
   ]
  },
  {
   "cell_type": "code",
   "execution_count": null,
   "id": "0e1e47d1-ec86-4092-8fac-ca2e62b5ed85",
   "metadata": {},
   "outputs": [],
   "source": [
    "\n",
    "\n",
    "def rectangle_calculate():\n",
    "    width=int(input(\"enter width\"))\n",
    "    length=int(input(\"enter length\"))\n",
    "    area=width*length\n",
    "    circumference=2*(width+length)\n",
    "    print(f\"Area of the rectangle: {area}\")\n",
    "    print(f\"Circumference of the rectangle: {circumference}\")\n",
    "rectangle_calculate()"
   ]
  },
  {
   "cell_type": "code",
   "execution_count": 3,
   "id": "60fd99f0-68c6-454f-a46f-1d7ace0bd005",
   "metadata": {},
   "outputs": [
    {
     "name": "stdout",
     "output_type": "stream",
     "text": [
      "Area of the circle: 201.06192982974676\n",
      "Circumference of the circle: 50.26548245743669\n"
     ]
    }
   ],
   "source": [
    "circle_calculate(8)"
   ]
  },
  {
   "cell_type": "code",
   "execution_count": 4,
   "id": "0538d808-4716-477a-9f67-0ddc9cf4552e",
   "metadata": {},
   "outputs": [
    {
     "name": "stdout",
     "output_type": "stream",
     "text": [
      "Area of the rectangle: 20\n",
      "Circumference of the rectangle: 24\n"
     ]
    }
   ],
   "source": [
    "rectangle_calculate(10,2)"
   ]
  },
  {
   "cell_type": "code",
   "execution_count": null,
   "id": "d17f3c69-bede-477a-955c-0cdcf902ce0f",
   "metadata": {},
   "outputs": [],
   "source": []
  }
 ],
 "metadata": {
  "kernelspec": {
   "display_name": "Python 3 (ipykernel)",
   "language": "python",
   "name": "python3"
  },
  "language_info": {
   "codemirror_mode": {
    "name": "ipython",
    "version": 3
   },
   "file_extension": ".py",
   "mimetype": "text/x-python",
   "name": "python",
   "nbconvert_exporter": "python",
   "pygments_lexer": "ipython3",
   "version": "3.11.1"
  }
 },
 "nbformat": 4,
 "nbformat_minor": 5
}
