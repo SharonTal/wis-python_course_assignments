{
 "cells": [
  {
   "cell_type": "code",
   "execution_count": 1,
   "id": "664fb8db-0108-40cc-8948-15dcc03aaf45",
   "metadata": {},
   "outputs": [],
   "source": [
    "import math\n",
    "\n",
    "def circle_calculate(radius):\n",
    "    area=math.pi * radius**2\n",
    "    circumference = 2 * math.pi * radius\n",
    "    print(f\"Area of the circle: {area}\")\n",
    "    print(f\"Circumference of the circle: {circumference}\")\n"
   ]
  },
  {
   "cell_type": "code",
   "execution_count": 2,
   "id": "0e1e47d1-ec86-4092-8fac-ca2e62b5ed85",
   "metadata": {},
   "outputs": [],
   "source": [
    "def rectangle_calculate(width, length):\n",
    "    area=width*length\n",
    "    circumference=2*(width+length)\n",
    "    print(f\"Area of the rectangle: {area}\")\n",
    "    print(f\"Circumference of the rectangle: {circumference}\")\n"
   ]
  },
  {
   "cell_type": "code",
   "execution_count": null,
   "id": "60fd99f0-68c6-454f-a46f-1d7ace0bd005",
   "metadata": {},
   "outputs": [],
   "source": []
  }
 ],
 "metadata": {
  "kernelspec": {
   "display_name": "Python 3 (ipykernel)",
   "language": "python",
   "name": "python3"
  },
  "language_info": {
   "codemirror_mode": {
    "name": "ipython",
    "version": 3
   },
   "file_extension": ".py",
   "mimetype": "text/x-python",
   "name": "python",
   "nbconvert_exporter": "python",
   "pygments_lexer": "ipython3",
   "version": "3.11.1"
  }
 },
 "nbformat": 4,
 "nbformat_minor": 5
}
